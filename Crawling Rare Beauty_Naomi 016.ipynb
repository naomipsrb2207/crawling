{
 "cells": [
  {
   "cell_type": "markdown",
   "id": "f3eb7032",
   "metadata": {},
   "source": [
    "# How to crawl all products of Rare Beauty Cosmetics by Selena Gomez\n",
    "\n",
    "### Naomi Gloria Pasaribu 2043221016"
   ]
  },
  {
   "cell_type": "code",
   "execution_count": 1,
   "id": "8faad231",
   "metadata": {},
   "outputs": [],
   "source": [
    "from selenium import webdriver\n",
    "from bs4 import BeautifulSoup\n",
    "import pandas as pd"
   ]
  },
  {
   "cell_type": "code",
   "execution_count": 2,
   "id": "fdfe2cd7",
   "metadata": {},
   "outputs": [],
   "source": [
    "data_products = []\n",
    "data_ratings = []\n",
    "data_reviews = []\n",
    "data_prices = []"
   ]
  },
  {
   "cell_type": "code",
   "execution_count": 3,
   "id": "4df23c57",
   "metadata": {},
   "outputs": [
    {
     "name": "stderr",
     "output_type": "stream",
     "text": [
      "C:\\Users\\HP\\AppData\\Local\\Temp\\ipykernel_12220\\4101339244.py:2: DeprecationWarning: executable_path has been deprecated, please pass in a Service object\n",
      "  driver = webdriver.Chrome('/path/to/chromedriver')\n"
     ]
    }
   ],
   "source": [
    "# Set up Selenium WebDriver with Chrome\n",
    "driver = webdriver.Chrome('/path/to/chromedriver')"
   ]
  },
  {
   "cell_type": "code",
   "execution_count": 4,
   "id": "9313e44d",
   "metadata": {},
   "outputs": [],
   "source": [
    "for index in range(1, 9):\n",
    "    url = f'https://www.rarebeauty.com/collections/shop-all#?page={index}/'\n",
    "    driver.get(url)\n",
    "    page_source = driver.page_source\n",
    "    soup = BeautifulSoup(page_source, 'html.parser')\n",
    "\n",
    "    products = soup.find_all(class_='pi__title')\n",
    "    for each_product in products:\n",
    "        data_products.append(each_product.text.strip())\n",
    "    \n",
    "    ratings = soup.find_all(class_='sr-only')\n",
    "    for each_rating in ratings:\n",
    "        data_ratings.append(each_rating.text.strip())\n",
    "    \n",
    "    reviews = soup.find_all(class_='text-m')\n",
    "    for each_review in reviews:\n",
    "        data_reviews.append(each_review.text.strip())\n",
    "\n",
    "    prices = soup.find_all(class_='pi__quick-add btn btn--primary btn--full js-pi-add-to-cart js-quick-add')\n",
    "    for each_price in prices:\n",
    "        data_prices.append(each_price.text.strip())"
   ]
  },
  {
   "cell_type": "code",
   "execution_count": 5,
   "id": "4b4ced01",
   "metadata": {},
   "outputs": [],
   "source": [
    "driver.quit()"
   ]
  },
  {
   "cell_type": "code",
   "execution_count": 6,
   "id": "ee384987",
   "metadata": {},
   "outputs": [
    {
     "name": "stdout",
     "output_type": "stream",
     "text": [
      "                                             Products          Ratings  \\\n",
      "0                           Soft Pinch Tinted Lip Oil  4.8 star rating   \n",
      "1                             Soft Pinch Liquid Blush  4.8 star rating   \n",
      "2                     Positive Light Liquid Luminizer  4.8 star rating   \n",
      "3                Warm Wishes Effortless Bronzer Stick  4.9 star rating   \n",
      "4   Positive Light Tinted Moisturizer Broad Spectr...  4.8 star rating   \n",
      "..                                                ...              ...   \n",
      "67  Positive Light Tinted Moisturizer Broad Spectr...  4.8 star rating   \n",
      "68             Positive Light Silky Touch Highlighter  4.8 star rating   \n",
      "69                Positive Light Under Eye Brightener  4.8 star rating   \n",
      "70                         Kind Words Matte Lip Liner  4.9 star rating   \n",
      "71                     Always an Optimist 4-In-1 Mist  4.9 star rating   \n",
      "\n",
      "         Reviews            Prices  \n",
      "0    527 Reviews  Add to Bag • $20  \n",
      "1   2680 Reviews  Add to Bag • $23  \n",
      "2    808 Reviews  Add to Bag • $25  \n",
      "3    810 Reviews  Add to Bag • $26  \n",
      "4    808 Reviews  Add to Bag • $30  \n",
      "..           ...               ...  \n",
      "67   808 Reviews  Add to Bag • $30  \n",
      "68   410 Reviews  Add to Bag • $25  \n",
      "69   282 Reviews  Add to Bag • $24  \n",
      "70   269 Reviews  Add to Bag • $15  \n",
      "71   671 Reviews  Add to Bag • $27  \n",
      "\n",
      "[72 rows x 4 columns]\n"
     ]
    }
   ],
   "source": [
    "data = {\n",
    "    'Products': data_products,\n",
    "    'Ratings': data_ratings,\n",
    "    'Reviews': data_reviews,\n",
    "    'Prices' : data_prices\n",
    "}\n",
    "\n",
    "if len(data_products) == len(data_prices):\n",
    "    df = pd.DataFrame(data)\n",
    "    print(df)\n",
    "else:\n",
    "    print(\"Error\")"
   ]
  },
  {
   "cell_type": "code",
   "execution_count": 7,
   "id": "fb0f0d5d",
   "metadata": {},
   "outputs": [
    {
     "data": {
      "text/html": [
       "<div>\n",
       "<style scoped>\n",
       "    .dataframe tbody tr th:only-of-type {\n",
       "        vertical-align: middle;\n",
       "    }\n",
       "\n",
       "    .dataframe tbody tr th {\n",
       "        vertical-align: top;\n",
       "    }\n",
       "\n",
       "    .dataframe thead th {\n",
       "        text-align: right;\n",
       "    }\n",
       "</style>\n",
       "<table border=\"1\" class=\"dataframe\">\n",
       "  <thead>\n",
       "    <tr style=\"text-align: right;\">\n",
       "      <th></th>\n",
       "      <th>Products</th>\n",
       "      <th>Ratings</th>\n",
       "      <th>Reviews</th>\n",
       "      <th>Prices</th>\n",
       "    </tr>\n",
       "  </thead>\n",
       "  <tbody>\n",
       "    <tr>\n",
       "      <th>0</th>\n",
       "      <td>Soft Pinch Tinted Lip Oil</td>\n",
       "      <td>4.8 star rating</td>\n",
       "      <td>527 Reviews</td>\n",
       "      <td>Add to Bag • $20</td>\n",
       "    </tr>\n",
       "    <tr>\n",
       "      <th>1</th>\n",
       "      <td>Soft Pinch Liquid Blush</td>\n",
       "      <td>4.8 star rating</td>\n",
       "      <td>2680 Reviews</td>\n",
       "      <td>Add to Bag • $23</td>\n",
       "    </tr>\n",
       "    <tr>\n",
       "      <th>2</th>\n",
       "      <td>Positive Light Liquid Luminizer</td>\n",
       "      <td>4.8 star rating</td>\n",
       "      <td>808 Reviews</td>\n",
       "      <td>Add to Bag • $25</td>\n",
       "    </tr>\n",
       "    <tr>\n",
       "      <th>3</th>\n",
       "      <td>Warm Wishes Effortless Bronzer Stick</td>\n",
       "      <td>4.9 star rating</td>\n",
       "      <td>810 Reviews</td>\n",
       "      <td>Add to Bag • $26</td>\n",
       "    </tr>\n",
       "    <tr>\n",
       "      <th>4</th>\n",
       "      <td>Positive Light Tinted Moisturizer Broad Spectr...</td>\n",
       "      <td>4.8 star rating</td>\n",
       "      <td>808 Reviews</td>\n",
       "      <td>Add to Bag • $30</td>\n",
       "    </tr>\n",
       "    <tr>\n",
       "      <th>...</th>\n",
       "      <td>...</td>\n",
       "      <td>...</td>\n",
       "      <td>...</td>\n",
       "      <td>...</td>\n",
       "    </tr>\n",
       "    <tr>\n",
       "      <th>67</th>\n",
       "      <td>Positive Light Tinted Moisturizer Broad Spectr...</td>\n",
       "      <td>4.8 star rating</td>\n",
       "      <td>808 Reviews</td>\n",
       "      <td>Add to Bag • $30</td>\n",
       "    </tr>\n",
       "    <tr>\n",
       "      <th>68</th>\n",
       "      <td>Positive Light Silky Touch Highlighter</td>\n",
       "      <td>4.8 star rating</td>\n",
       "      <td>410 Reviews</td>\n",
       "      <td>Add to Bag • $25</td>\n",
       "    </tr>\n",
       "    <tr>\n",
       "      <th>69</th>\n",
       "      <td>Positive Light Under Eye Brightener</td>\n",
       "      <td>4.8 star rating</td>\n",
       "      <td>282 Reviews</td>\n",
       "      <td>Add to Bag • $24</td>\n",
       "    </tr>\n",
       "    <tr>\n",
       "      <th>70</th>\n",
       "      <td>Kind Words Matte Lip Liner</td>\n",
       "      <td>4.9 star rating</td>\n",
       "      <td>269 Reviews</td>\n",
       "      <td>Add to Bag • $15</td>\n",
       "    </tr>\n",
       "    <tr>\n",
       "      <th>71</th>\n",
       "      <td>Always an Optimist 4-In-1 Mist</td>\n",
       "      <td>4.9 star rating</td>\n",
       "      <td>671 Reviews</td>\n",
       "      <td>Add to Bag • $27</td>\n",
       "    </tr>\n",
       "  </tbody>\n",
       "</table>\n",
       "<p>72 rows × 4 columns</p>\n",
       "</div>"
      ],
      "text/plain": [
       "                                             Products          Ratings  \\\n",
       "0                           Soft Pinch Tinted Lip Oil  4.8 star rating   \n",
       "1                             Soft Pinch Liquid Blush  4.8 star rating   \n",
       "2                     Positive Light Liquid Luminizer  4.8 star rating   \n",
       "3                Warm Wishes Effortless Bronzer Stick  4.9 star rating   \n",
       "4   Positive Light Tinted Moisturizer Broad Spectr...  4.8 star rating   \n",
       "..                                                ...              ...   \n",
       "67  Positive Light Tinted Moisturizer Broad Spectr...  4.8 star rating   \n",
       "68             Positive Light Silky Touch Highlighter  4.8 star rating   \n",
       "69                Positive Light Under Eye Brightener  4.8 star rating   \n",
       "70                         Kind Words Matte Lip Liner  4.9 star rating   \n",
       "71                     Always an Optimist 4-In-1 Mist  4.9 star rating   \n",
       "\n",
       "         Reviews            Prices  \n",
       "0    527 Reviews  Add to Bag • $20  \n",
       "1   2680 Reviews  Add to Bag • $23  \n",
       "2    808 Reviews  Add to Bag • $25  \n",
       "3    810 Reviews  Add to Bag • $26  \n",
       "4    808 Reviews  Add to Bag • $30  \n",
       "..           ...               ...  \n",
       "67   808 Reviews  Add to Bag • $30  \n",
       "68   410 Reviews  Add to Bag • $25  \n",
       "69   282 Reviews  Add to Bag • $24  \n",
       "70   269 Reviews  Add to Bag • $15  \n",
       "71   671 Reviews  Add to Bag • $27  \n",
       "\n",
       "[72 rows x 4 columns]"
      ]
     },
     "execution_count": 7,
     "metadata": {},
     "output_type": "execute_result"
    }
   ],
   "source": [
    "df = pd.DataFrame(data)\n",
    "df"
   ]
  },
  {
   "cell_type": "code",
   "execution_count": 8,
   "id": "f9a3dd4a",
   "metadata": {},
   "outputs": [],
   "source": [
    "pd.DataFrame(data).to_csv('Data Produk Rare Beauty.csv')"
   ]
  },
  {
   "cell_type": "code",
   "execution_count": null,
   "id": "2adace70",
   "metadata": {},
   "outputs": [],
   "source": []
  }
 ],
 "metadata": {
  "kernelspec": {
   "display_name": "Python 3 (ipykernel)",
   "language": "python",
   "name": "python3"
  },
  "language_info": {
   "codemirror_mode": {
    "name": "ipython",
    "version": 3
   },
   "file_extension": ".py",
   "mimetype": "text/x-python",
   "name": "python",
   "nbconvert_exporter": "python",
   "pygments_lexer": "ipython3",
   "version": "3.10.9"
  }
 },
 "nbformat": 4,
 "nbformat_minor": 5
}
